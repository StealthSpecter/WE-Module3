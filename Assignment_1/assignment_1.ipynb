{
  "nbformat": 4,
  "nbformat_minor": 0,
  "metadata": {
    "colab": {
      "provenance": []
    },
    "kernelspec": {
      "name": "python3",
      "display_name": "Python 3"
    },
    "language_info": {
      "name": "python"
    }
  },
  "cells": [
    {
      "cell_type": "code",
      "execution_count": null,
      "metadata": {
        "colab": {
          "base_uri": "https://localhost:8080/"
        },
        "id": "HxJJDqoLcDw3",
        "outputId": "9ed1488c-0c29-4457-c877-ee1b558cf683"
      },
      "outputs": [
        {
          "output_type": "stream",
          "name": "stdout",
          "text": [
            "Test Case 1: Idlis: [2, 4, 6, 8], Minimum idlis needed: 0\n",
            "Test Case 2: Idlis: [1, 3, 5, 7], Minimum idlis needed: 4\n",
            "Test Case 3: Idlis: [1, 2, 4, 5], Minimum idlis needed: 6\n",
            "Test Case 4: Idlis: [2, 2, 2, 2], Minimum idlis needed: 0\n",
            "Test Case 5: Idlis: [1, 2, 3, 4, 5, 6], Minimum idlis needed: -1\n"
          ]
        }
      ],
      "source": [
        "def distribute_idlis(idlis):\n",
        "    parity = ''.join('o' if idli % 2 == 1 else 'e' for idli in idlis)\n",
        "\n",
        "    if sum(idlis) % 2 != 0:\n",
        "        return -1\n",
        "\n",
        "    def distribute_recursive(queue):\n",
        "        if len(queue) < 2:\n",
        "            return 0\n",
        "        if queue[:2] == 'ee':\n",
        "            return distribute_recursive(queue[2:])\n",
        "        if queue[:2] == 'oo':\n",
        "            return 2 + distribute_recursive(queue[2:])\n",
        "        if queue[0] == 'e':\n",
        "            return distribute_recursive(queue[1:])\n",
        "        return 2 + distribute_recursive('o' + queue[2:])\n",
        "\n",
        "    return distribute_recursive(parity)\n",
        "\n",
        "# Final test cases\n",
        "test_cases = [\n",
        "    [2, 4, 6, 8],  # Even idlis already held by each citizen\n",
        "    [1, 3, 5, 7],  # Odd idlis already held by each citizen\n",
        "    [1, 2, 4, 5],  # Possible to distribute idlis\n",
        "    [2, 2, 2, 2],  # Each citizen already has an even number of idlis\n",
        "    [1, 2, 3, 4, 5, 6],  # Total idlis count is odd\n",
        "]\n",
        "\n",
        "# Execute the test cases\n",
        "for idx, idlis in enumerate(test_cases, 1):\n",
        "    result = distribute_idlis(idlis)\n",
        "    print(f\"Test Case {idx}: Idlis: {idlis}, Minimum idlis needed: {result}\")\n",
        "\n",
        "\n",
        "\n",
        "\n"
      ]
    },
    {
      "cell_type": "code",
      "source": [
        "\n"
      ],
      "metadata": {
        "id": "InecVWuGddkQ"
      },
      "execution_count": null,
      "outputs": []
    }
  ]
}